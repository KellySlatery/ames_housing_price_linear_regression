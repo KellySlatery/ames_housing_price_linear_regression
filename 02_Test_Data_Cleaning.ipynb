{
 "cells": [
  {
   "cell_type": "markdown",
   "metadata": {},
   "source": [
    "# Project 2:  Ames Housing Data and Kaggle Challenge"
   ]
  },
  {
   "cell_type": "markdown",
   "metadata": {},
   "source": [
    "Kelly Slatery | US-DSI-10 | 01.17.2020"
   ]
  },
  {
   "cell_type": "markdown",
   "metadata": {},
   "source": [
    "# Clean test dataset for Ames Housing Data"
   ]
  },
  {
   "cell_type": "code",
   "execution_count": 1,
   "metadata": {},
   "outputs": [],
   "source": [
    "# Imports\n",
    "import numpy as np\n",
    "import pandas as pd\n",
    "import matplotlib.pyplot as plt\n",
    "import seaborn as sns\n",
    "from sklearn.linear_model import LinearRegression"
   ]
  },
  {
   "cell_type": "markdown",
   "metadata": {},
   "source": [
    "## Import & explore data"
   ]
  },
  {
   "cell_type": "code",
   "execution_count": 2,
   "metadata": {
    "scrolled": false
   },
   "outputs": [],
   "source": [
    "test = pd.read_csv('./datasets/test.csv')"
   ]
  },
  {
   "cell_type": "code",
   "execution_count": 3,
   "metadata": {
    "scrolled": true
   },
   "outputs": [
    {
     "data": {
      "text/html": [
       "<div>\n",
       "<style scoped>\n",
       "    .dataframe tbody tr th:only-of-type {\n",
       "        vertical-align: middle;\n",
       "    }\n",
       "\n",
       "    .dataframe tbody tr th {\n",
       "        vertical-align: top;\n",
       "    }\n",
       "\n",
       "    .dataframe thead th {\n",
       "        text-align: right;\n",
       "    }\n",
       "</style>\n",
       "<table border=\"1\" class=\"dataframe\">\n",
       "  <thead>\n",
       "    <tr style=\"text-align: right;\">\n",
       "      <th></th>\n",
       "      <th>Id</th>\n",
       "      <th>PID</th>\n",
       "      <th>MS SubClass</th>\n",
       "      <th>MS Zoning</th>\n",
       "      <th>Lot Frontage</th>\n",
       "      <th>Lot Area</th>\n",
       "      <th>Street</th>\n",
       "      <th>Alley</th>\n",
       "      <th>Lot Shape</th>\n",
       "      <th>Land Contour</th>\n",
       "      <th>...</th>\n",
       "      <th>3Ssn Porch</th>\n",
       "      <th>Screen Porch</th>\n",
       "      <th>Pool Area</th>\n",
       "      <th>Pool QC</th>\n",
       "      <th>Fence</th>\n",
       "      <th>Misc Feature</th>\n",
       "      <th>Misc Val</th>\n",
       "      <th>Mo Sold</th>\n",
       "      <th>Yr Sold</th>\n",
       "      <th>Sale Type</th>\n",
       "    </tr>\n",
       "  </thead>\n",
       "  <tbody>\n",
       "    <tr>\n",
       "      <th>0</th>\n",
       "      <td>2658</td>\n",
       "      <td>902301120</td>\n",
       "      <td>190</td>\n",
       "      <td>RM</td>\n",
       "      <td>69.0</td>\n",
       "      <td>9142</td>\n",
       "      <td>Pave</td>\n",
       "      <td>Grvl</td>\n",
       "      <td>Reg</td>\n",
       "      <td>Lvl</td>\n",
       "      <td>...</td>\n",
       "      <td>0</td>\n",
       "      <td>0</td>\n",
       "      <td>0</td>\n",
       "      <td>NaN</td>\n",
       "      <td>NaN</td>\n",
       "      <td>NaN</td>\n",
       "      <td>0</td>\n",
       "      <td>4</td>\n",
       "      <td>2006</td>\n",
       "      <td>WD</td>\n",
       "    </tr>\n",
       "    <tr>\n",
       "      <th>1</th>\n",
       "      <td>2718</td>\n",
       "      <td>905108090</td>\n",
       "      <td>90</td>\n",
       "      <td>RL</td>\n",
       "      <td>NaN</td>\n",
       "      <td>9662</td>\n",
       "      <td>Pave</td>\n",
       "      <td>NaN</td>\n",
       "      <td>IR1</td>\n",
       "      <td>Lvl</td>\n",
       "      <td>...</td>\n",
       "      <td>0</td>\n",
       "      <td>0</td>\n",
       "      <td>0</td>\n",
       "      <td>NaN</td>\n",
       "      <td>NaN</td>\n",
       "      <td>NaN</td>\n",
       "      <td>0</td>\n",
       "      <td>8</td>\n",
       "      <td>2006</td>\n",
       "      <td>WD</td>\n",
       "    </tr>\n",
       "    <tr>\n",
       "      <th>2</th>\n",
       "      <td>2414</td>\n",
       "      <td>528218130</td>\n",
       "      <td>60</td>\n",
       "      <td>RL</td>\n",
       "      <td>58.0</td>\n",
       "      <td>17104</td>\n",
       "      <td>Pave</td>\n",
       "      <td>NaN</td>\n",
       "      <td>IR1</td>\n",
       "      <td>Lvl</td>\n",
       "      <td>...</td>\n",
       "      <td>0</td>\n",
       "      <td>0</td>\n",
       "      <td>0</td>\n",
       "      <td>NaN</td>\n",
       "      <td>NaN</td>\n",
       "      <td>NaN</td>\n",
       "      <td>0</td>\n",
       "      <td>9</td>\n",
       "      <td>2006</td>\n",
       "      <td>New</td>\n",
       "    </tr>\n",
       "    <tr>\n",
       "      <th>3</th>\n",
       "      <td>1989</td>\n",
       "      <td>902207150</td>\n",
       "      <td>30</td>\n",
       "      <td>RM</td>\n",
       "      <td>60.0</td>\n",
       "      <td>8520</td>\n",
       "      <td>Pave</td>\n",
       "      <td>NaN</td>\n",
       "      <td>Reg</td>\n",
       "      <td>Lvl</td>\n",
       "      <td>...</td>\n",
       "      <td>0</td>\n",
       "      <td>0</td>\n",
       "      <td>0</td>\n",
       "      <td>NaN</td>\n",
       "      <td>NaN</td>\n",
       "      <td>NaN</td>\n",
       "      <td>0</td>\n",
       "      <td>7</td>\n",
       "      <td>2007</td>\n",
       "      <td>WD</td>\n",
       "    </tr>\n",
       "    <tr>\n",
       "      <th>4</th>\n",
       "      <td>625</td>\n",
       "      <td>535105100</td>\n",
       "      <td>20</td>\n",
       "      <td>RL</td>\n",
       "      <td>NaN</td>\n",
       "      <td>9500</td>\n",
       "      <td>Pave</td>\n",
       "      <td>NaN</td>\n",
       "      <td>IR1</td>\n",
       "      <td>Lvl</td>\n",
       "      <td>...</td>\n",
       "      <td>0</td>\n",
       "      <td>185</td>\n",
       "      <td>0</td>\n",
       "      <td>NaN</td>\n",
       "      <td>NaN</td>\n",
       "      <td>NaN</td>\n",
       "      <td>0</td>\n",
       "      <td>7</td>\n",
       "      <td>2009</td>\n",
       "      <td>WD</td>\n",
       "    </tr>\n",
       "  </tbody>\n",
       "</table>\n",
       "<p>5 rows × 80 columns</p>\n",
       "</div>"
      ],
      "text/plain": [
       "     Id        PID  MS SubClass MS Zoning  Lot Frontage  Lot Area Street  \\\n",
       "0  2658  902301120          190        RM          69.0      9142   Pave   \n",
       "1  2718  905108090           90        RL           NaN      9662   Pave   \n",
       "2  2414  528218130           60        RL          58.0     17104   Pave   \n",
       "3  1989  902207150           30        RM          60.0      8520   Pave   \n",
       "4   625  535105100           20        RL           NaN      9500   Pave   \n",
       "\n",
       "  Alley Lot Shape Land Contour  ... 3Ssn Porch Screen Porch Pool Area Pool QC  \\\n",
       "0  Grvl       Reg          Lvl  ...          0            0         0     NaN   \n",
       "1   NaN       IR1          Lvl  ...          0            0         0     NaN   \n",
       "2   NaN       IR1          Lvl  ...          0            0         0     NaN   \n",
       "3   NaN       Reg          Lvl  ...          0            0         0     NaN   \n",
       "4   NaN       IR1          Lvl  ...          0          185         0     NaN   \n",
       "\n",
       "  Fence Misc Feature Misc Val Mo Sold  Yr Sold  Sale Type  \n",
       "0   NaN          NaN        0       4     2006        WD   \n",
       "1   NaN          NaN        0       8     2006        WD   \n",
       "2   NaN          NaN        0       9     2006        New  \n",
       "3   NaN          NaN        0       7     2007        WD   \n",
       "4   NaN          NaN        0       7     2009        WD   \n",
       "\n",
       "[5 rows x 80 columns]"
      ]
     },
     "execution_count": 3,
     "metadata": {},
     "output_type": "execute_result"
    }
   ],
   "source": [
    "test.head()"
   ]
  },
  {
   "cell_type": "code",
   "execution_count": 4,
   "metadata": {},
   "outputs": [
    {
     "data": {
      "text/plain": [
       "(878, 80)"
      ]
     },
     "execution_count": 4,
     "metadata": {},
     "output_type": "execute_result"
    }
   ],
   "source": [
    "test.shape"
   ]
  },
  {
   "cell_type": "code",
   "execution_count": 5,
   "metadata": {},
   "outputs": [
    {
     "data": {
      "text/plain": [
       "Index(['Id', 'PID', 'MS SubClass', 'MS Zoning', 'Lot Frontage', 'Lot Area',\n",
       "       'Street', 'Alley', 'Lot Shape', 'Land Contour', 'Utilities',\n",
       "       'Lot Config', 'Land Slope', 'Neighborhood', 'Condition 1',\n",
       "       'Condition 2', 'Bldg Type', 'House Style', 'Overall Qual',\n",
       "       'Overall Cond', 'Year Built', 'Year Remod/Add', 'Roof Style',\n",
       "       'Roof Matl', 'Exterior 1st', 'Exterior 2nd', 'Mas Vnr Type',\n",
       "       'Mas Vnr Area', 'Exter Qual', 'Exter Cond', 'Foundation', 'Bsmt Qual',\n",
       "       'Bsmt Cond', 'Bsmt Exposure', 'BsmtFin Type 1', 'BsmtFin SF 1',\n",
       "       'BsmtFin Type 2', 'BsmtFin SF 2', 'Bsmt Unf SF', 'Total Bsmt SF',\n",
       "       'Heating', 'Heating QC', 'Central Air', 'Electrical', '1st Flr SF',\n",
       "       '2nd Flr SF', 'Low Qual Fin SF', 'Gr Liv Area', 'Bsmt Full Bath',\n",
       "       'Bsmt Half Bath', 'Full Bath', 'Half Bath', 'Bedroom AbvGr',\n",
       "       'Kitchen AbvGr', 'Kitchen Qual', 'TotRms AbvGrd', 'Functional',\n",
       "       'Fireplaces', 'Fireplace Qu', 'Garage Type', 'Garage Yr Blt',\n",
       "       'Garage Finish', 'Garage Cars', 'Garage Area', 'Garage Qual',\n",
       "       'Garage Cond', 'Paved Drive', 'Wood Deck SF', 'Open Porch SF',\n",
       "       'Enclosed Porch', '3Ssn Porch', 'Screen Porch', 'Pool Area', 'Pool QC',\n",
       "       'Fence', 'Misc Feature', 'Misc Val', 'Mo Sold', 'Yr Sold', 'Sale Type'],\n",
       "      dtype='object')"
      ]
     },
     "execution_count": 5,
     "metadata": {},
     "output_type": "execute_result"
    }
   ],
   "source": [
    "test.columns"
   ]
  },
  {
   "cell_type": "code",
   "execution_count": 6,
   "metadata": {},
   "outputs": [
    {
     "data": {
      "text/html": [
       "<div>\n",
       "<style scoped>\n",
       "    .dataframe tbody tr th:only-of-type {\n",
       "        vertical-align: middle;\n",
       "    }\n",
       "\n",
       "    .dataframe tbody tr th {\n",
       "        vertical-align: top;\n",
       "    }\n",
       "\n",
       "    .dataframe thead th {\n",
       "        text-align: right;\n",
       "    }\n",
       "</style>\n",
       "<table border=\"1\" class=\"dataframe\">\n",
       "  <thead>\n",
       "    <tr style=\"text-align: right;\">\n",
       "      <th></th>\n",
       "      <th>Id</th>\n",
       "      <th>PID</th>\n",
       "      <th>MS SubClass</th>\n",
       "      <th>MS Zoning</th>\n",
       "      <th>Lot Frontage</th>\n",
       "      <th>Lot Area</th>\n",
       "      <th>Street</th>\n",
       "      <th>Alley</th>\n",
       "      <th>Lot Shape</th>\n",
       "      <th>Land Contour</th>\n",
       "      <th>...</th>\n",
       "      <th>3Ssn Porch</th>\n",
       "      <th>Screen Porch</th>\n",
       "      <th>Pool Area</th>\n",
       "      <th>Pool QC</th>\n",
       "      <th>Fence</th>\n",
       "      <th>Misc Feature</th>\n",
       "      <th>Misc Val</th>\n",
       "      <th>Mo Sold</th>\n",
       "      <th>Yr Sold</th>\n",
       "      <th>Sale Type</th>\n",
       "    </tr>\n",
       "  </thead>\n",
       "  <tbody>\n",
       "    <tr>\n",
       "      <th>0</th>\n",
       "      <td>int64</td>\n",
       "      <td>int64</td>\n",
       "      <td>int64</td>\n",
       "      <td>object</td>\n",
       "      <td>float64</td>\n",
       "      <td>int64</td>\n",
       "      <td>object</td>\n",
       "      <td>object</td>\n",
       "      <td>object</td>\n",
       "      <td>object</td>\n",
       "      <td>...</td>\n",
       "      <td>int64</td>\n",
       "      <td>int64</td>\n",
       "      <td>int64</td>\n",
       "      <td>object</td>\n",
       "      <td>object</td>\n",
       "      <td>object</td>\n",
       "      <td>int64</td>\n",
       "      <td>int64</td>\n",
       "      <td>int64</td>\n",
       "      <td>object</td>\n",
       "    </tr>\n",
       "  </tbody>\n",
       "</table>\n",
       "<p>1 rows × 80 columns</p>\n",
       "</div>"
      ],
      "text/plain": [
       "      Id    PID MS SubClass MS Zoning Lot Frontage Lot Area  Street   Alley  \\\n",
       "0  int64  int64       int64    object      float64    int64  object  object   \n",
       "\n",
       "  Lot Shape Land Contour  ... 3Ssn Porch Screen Porch Pool Area Pool QC  \\\n",
       "0    object       object  ...      int64        int64     int64  object   \n",
       "\n",
       "    Fence Misc Feature Misc Val Mo Sold Yr Sold Sale Type  \n",
       "0  object       object    int64   int64   int64    object  \n",
       "\n",
       "[1 rows x 80 columns]"
      ]
     },
     "execution_count": 6,
     "metadata": {},
     "output_type": "execute_result"
    }
   ],
   "source": [
    "test.dtypes.to_frame().T"
   ]
  },
  {
   "cell_type": "markdown",
   "metadata": {},
   "source": [
    "# Clean data"
   ]
  },
  {
   "cell_type": "code",
   "execution_count": 7,
   "metadata": {},
   "outputs": [
    {
     "data": {
      "text/plain": [
       "{'Lot Frontage': 160,\n",
       " 'Alley': 820,\n",
       " 'Mas Vnr Type': 1,\n",
       " 'Mas Vnr Area': 1,\n",
       " 'Bsmt Qual': 25,\n",
       " 'Bsmt Cond': 25,\n",
       " 'Bsmt Exposure': 25,\n",
       " 'BsmtFin Type 1': 25,\n",
       " 'BsmtFin Type 2': 25,\n",
       " 'Electrical': 1,\n",
       " 'Fireplace Qu': 422,\n",
       " 'Garage Type': 44,\n",
       " 'Garage Yr Blt': 45,\n",
       " 'Garage Finish': 45,\n",
       " 'Garage Qual': 45,\n",
       " 'Garage Cond': 45,\n",
       " 'Pool QC': 874,\n",
       " 'Fence': 706,\n",
       " 'Misc Feature': 837}"
      ]
     },
     "execution_count": 7,
     "metadata": {},
     "output_type": "execute_result"
    }
   ],
   "source": [
    "# Find all columns with missing values and how many values are missing\n",
    "test_missing_values = { col:(878 - test[col].count()) for col in test if test[col].count() < 878}\n",
    "test_missing_values     "
   ]
  },
  {
   "cell_type": "markdown",
   "metadata": {},
   "source": [
    "## Drop columns with large majority missing values"
   ]
  },
  {
   "cell_type": "code",
   "execution_count": 8,
   "metadata": {},
   "outputs": [],
   "source": [
    "test.drop(columns=['Alley', 'Pool QC', 'Fence', 'Misc Feature'], inplace=True)"
   ]
  },
  {
   "cell_type": "code",
   "execution_count": 9,
   "metadata": {},
   "outputs": [
    {
     "data": {
      "text/plain": [
       "{'Lot Frontage': 160,\n",
       " 'Mas Vnr Type': 1,\n",
       " 'Mas Vnr Area': 1,\n",
       " 'Bsmt Qual': 25,\n",
       " 'Bsmt Cond': 25,\n",
       " 'Bsmt Exposure': 25,\n",
       " 'BsmtFin Type 1': 25,\n",
       " 'BsmtFin Type 2': 25,\n",
       " 'Electrical': 1,\n",
       " 'Fireplace Qu': 422,\n",
       " 'Garage Type': 44,\n",
       " 'Garage Yr Blt': 45,\n",
       " 'Garage Finish': 45,\n",
       " 'Garage Qual': 45,\n",
       " 'Garage Cond': 45}"
      ]
     },
     "execution_count": 9,
     "metadata": {},
     "output_type": "execute_result"
    }
   ],
   "source": [
    "# Find remaining columns with missing values and how many values are missing\n",
    "test_missing_values = { col:(878 - test[col].count()) for col in test if test[col].count() < 878}\n",
    "test_missing_values     "
   ]
  },
  {
   "cell_type": "markdown",
   "metadata": {},
   "source": [
    "## Address veneer columns"
   ]
  },
  {
   "cell_type": "code",
   "execution_count": 10,
   "metadata": {
    "scrolled": false
   },
   "outputs": [
    {
     "data": {
      "text/html": [
       "<div>\n",
       "<style scoped>\n",
       "    .dataframe tbody tr th:only-of-type {\n",
       "        vertical-align: middle;\n",
       "    }\n",
       "\n",
       "    .dataframe tbody tr th {\n",
       "        vertical-align: top;\n",
       "    }\n",
       "\n",
       "    .dataframe thead th {\n",
       "        text-align: right;\n",
       "    }\n",
       "</style>\n",
       "<table border=\"1\" class=\"dataframe\">\n",
       "  <thead>\n",
       "    <tr style=\"text-align: right;\">\n",
       "      <th></th>\n",
       "      <th>Id</th>\n",
       "      <th>PID</th>\n",
       "      <th>MS SubClass</th>\n",
       "      <th>MS Zoning</th>\n",
       "      <th>Lot Frontage</th>\n",
       "      <th>Lot Area</th>\n",
       "      <th>Street</th>\n",
       "      <th>Lot Shape</th>\n",
       "      <th>Land Contour</th>\n",
       "      <th>Utilities</th>\n",
       "      <th>...</th>\n",
       "      <th>Wood Deck SF</th>\n",
       "      <th>Open Porch SF</th>\n",
       "      <th>Enclosed Porch</th>\n",
       "      <th>3Ssn Porch</th>\n",
       "      <th>Screen Porch</th>\n",
       "      <th>Pool Area</th>\n",
       "      <th>Misc Val</th>\n",
       "      <th>Mo Sold</th>\n",
       "      <th>Yr Sold</th>\n",
       "      <th>Sale Type</th>\n",
       "    </tr>\n",
       "  </thead>\n",
       "  <tbody>\n",
       "    <tr>\n",
       "      <th>865</th>\n",
       "      <td>868</td>\n",
       "      <td>907260030</td>\n",
       "      <td>60</td>\n",
       "      <td>RL</td>\n",
       "      <td>70.0</td>\n",
       "      <td>8749</td>\n",
       "      <td>Pave</td>\n",
       "      <td>Reg</td>\n",
       "      <td>Lvl</td>\n",
       "      <td>AllPub</td>\n",
       "      <td>...</td>\n",
       "      <td>0</td>\n",
       "      <td>48</td>\n",
       "      <td>0</td>\n",
       "      <td>0</td>\n",
       "      <td>0</td>\n",
       "      <td>0</td>\n",
       "      <td>0</td>\n",
       "      <td>11</td>\n",
       "      <td>2009</td>\n",
       "      <td>WD</td>\n",
       "    </tr>\n",
       "  </tbody>\n",
       "</table>\n",
       "<p>1 rows × 76 columns</p>\n",
       "</div>"
      ],
      "text/plain": [
       "      Id        PID  MS SubClass MS Zoning  Lot Frontage  Lot Area Street  \\\n",
       "865  868  907260030           60        RL          70.0      8749   Pave   \n",
       "\n",
       "    Lot Shape Land Contour Utilities  ... Wood Deck SF Open Porch SF  \\\n",
       "865       Reg          Lvl    AllPub  ...            0            48   \n",
       "\n",
       "    Enclosed Porch 3Ssn Porch Screen Porch Pool Area Misc Val  Mo Sold  \\\n",
       "865              0          0            0         0        0       11   \n",
       "\n",
       "     Yr Sold  Sale Type  \n",
       "865     2009        WD   \n",
       "\n",
       "[1 rows x 76 columns]"
      ]
     },
     "execution_count": 10,
     "metadata": {},
     "output_type": "execute_result"
    }
   ],
   "source": [
    "# Check if NaN values in 'Mas Vnr Area' and 'Mas Vnr Type' correspond\n",
    "test[(test['Mas Vnr Area'].isnull()==True) & (test['Mas Vnr Type'].isnull()==True)]"
   ]
  },
  {
   "cell_type": "code",
   "execution_count": 11,
   "metadata": {},
   "outputs": [],
   "source": [
    "# Fill empty values with 0 or 'N/A' string\n",
    "test.loc[(test['Mas Vnr Type'].isnull()==True), ['Mas Vnr Type']] = 'N/A'\n",
    "test.loc[(test['Mas Vnr Area'].isnull()==True), ['Mas Vnr Area']] = 0.0"
   ]
  },
  {
   "cell_type": "code",
   "execution_count": 12,
   "metadata": {},
   "outputs": [
    {
     "data": {
      "text/plain": [
       "0      0.0\n",
       "1      0.0\n",
       "2      0.0\n",
       "3      0.0\n",
       "4    247.0\n",
       "5      0.0\n",
       "6      0.0\n",
       "7      0.0\n",
       "8      0.0\n",
       "9      0.0\n",
       "Name: Mas Vnr Area, dtype: float64"
      ]
     },
     "execution_count": 12,
     "metadata": {},
     "output_type": "execute_result"
    }
   ],
   "source": [
    "# Change test['Mas Vnr Area'] dtype to int\n",
    "test['Mas Vnr Area'] = pd.to_numeric(test['Mas Vnr Area'])\n",
    "test['Mas Vnr Area'].head(10)"
   ]
  },
  {
   "cell_type": "code",
   "execution_count": 13,
   "metadata": {},
   "outputs": [
    {
     "data": {
      "text/plain": [
       "{'Lot Frontage': 160,\n",
       " 'Bsmt Qual': 25,\n",
       " 'Bsmt Cond': 25,\n",
       " 'Bsmt Exposure': 25,\n",
       " 'BsmtFin Type 1': 25,\n",
       " 'BsmtFin Type 2': 25,\n",
       " 'Electrical': 1,\n",
       " 'Fireplace Qu': 422,\n",
       " 'Garage Type': 44,\n",
       " 'Garage Yr Blt': 45,\n",
       " 'Garage Finish': 45,\n",
       " 'Garage Qual': 45,\n",
       " 'Garage Cond': 45}"
      ]
     },
     "execution_count": 13,
     "metadata": {},
     "output_type": "execute_result"
    }
   ],
   "source": [
    "# Find remaining columns with missing values and how many values are missing\n",
    "test_missing_values = { col:(878 - test[col].count()) for col in test if test[col].count() < 878}\n",
    "test_missing_values  "
   ]
  },
  {
   "cell_type": "markdown",
   "metadata": {},
   "source": [
    "## Address garage columns"
   ]
  },
  {
   "cell_type": "code",
   "execution_count": 14,
   "metadata": {},
   "outputs": [
    {
     "data": {
      "text/plain": [
       "2010.0"
      ]
     },
     "execution_count": 14,
     "metadata": {},
     "output_type": "execute_result"
    }
   ],
   "source": [
    "# Check garage column max\n",
    "test['Garage Yr Blt'].max()"
   ]
  },
  {
   "cell_type": "code",
   "execution_count": 15,
   "metadata": {},
   "outputs": [
    {
     "data": {
      "text/plain": [
       "True"
      ]
     },
     "execution_count": 15,
     "metadata": {},
     "output_type": "execute_result"
    }
   ],
   "source": [
    "# Check if NaN values in 'Garage Type','Garage Yr Blt', 'Garage Finish', 'Garage Qual', 'Garage Cond' correspond \n",
    "\n",
    "# Drop ALL rows containing NaN in all 5 columns above (should be 113 rows)\n",
    "garage_cols_no_nan = test[['Garage Type','Garage Yr Blt', 'Garage Finish', 'Garage Qual', 'Garage Cond']].dropna(how='all')\n",
    "\n",
    "# Verify that exactly 113 rows were dropped AKA all 113 NaN values are in the same rows\n",
    "test.shape[0] - garage_cols_no_nan.shape[0] == 44\n"
   ]
  },
  {
   "cell_type": "code",
   "execution_count": 16,
   "metadata": {},
   "outputs": [],
   "source": [
    "# Create a new 'has_garage' column\n",
    "test['has_garage'] = [0 if pd.isna(value) else 1 for value in test['Garage Type']]"
   ]
  },
  {
   "cell_type": "code",
   "execution_count": 17,
   "metadata": {},
   "outputs": [
    {
     "data": {
      "text/html": [
       "<div>\n",
       "<style scoped>\n",
       "    .dataframe tbody tr th:only-of-type {\n",
       "        vertical-align: middle;\n",
       "    }\n",
       "\n",
       "    .dataframe tbody tr th {\n",
       "        vertical-align: top;\n",
       "    }\n",
       "\n",
       "    .dataframe thead th {\n",
       "        text-align: right;\n",
       "    }\n",
       "</style>\n",
       "<table border=\"1\" class=\"dataframe\">\n",
       "  <thead>\n",
       "    <tr style=\"text-align: right;\">\n",
       "      <th></th>\n",
       "      <th>Garage Type</th>\n",
       "    </tr>\n",
       "  </thead>\n",
       "  <tbody>\n",
       "    <tr>\n",
       "      <th>764</th>\n",
       "      <td>Detchd</td>\n",
       "    </tr>\n",
       "  </tbody>\n",
       "</table>\n",
       "</div>"
      ],
      "text/plain": [
       "    Garage Type\n",
       "764      Detchd"
      ]
     },
     "execution_count": 17,
     "metadata": {},
     "output_type": "execute_result"
    }
   ],
   "source": [
    "# Find other row where all but 'Garage Type' are NaN\n",
    "test.loc[((test['Garage Yr Blt'].isnull()) & (test['Garage Type'].notnull())), ['Garage Type']]\n"
   ]
  },
  {
   "cell_type": "code",
   "execution_count": 18,
   "metadata": {},
   "outputs": [],
   "source": [
    "# Change row 764, ['Garage Type'] to 'N/A' for simplicity\n",
    "test.loc[764,['Garage Type']] == 'N/A'\n",
    "\n",
    "# Fill empty values with 'N/A' string\n",
    "test.loc[(test['Garage Yr Blt'].isnull()), ['Garage Type', 'Garage Finish', 'Garage Qual', 'Garage Cond']] = 'N/A'\n",
    "\n",
    "# Fill empty values in 'Garage Yr Blt' with mean year\n",
    "test.loc[(test['Garage Yr Blt'].isnull()), ['Garage Yr Blt']] = np.mean(test['Garage Yr Blt'])"
   ]
  },
  {
   "cell_type": "code",
   "execution_count": 19,
   "metadata": {},
   "outputs": [
    {
     "data": {
      "text/plain": [
       "{'Lot Frontage': 160,\n",
       " 'Bsmt Qual': 25,\n",
       " 'Bsmt Cond': 25,\n",
       " 'Bsmt Exposure': 25,\n",
       " 'BsmtFin Type 1': 25,\n",
       " 'BsmtFin Type 2': 25,\n",
       " 'Electrical': 1,\n",
       " 'Fireplace Qu': 422}"
      ]
     },
     "execution_count": 19,
     "metadata": {},
     "output_type": "execute_result"
    }
   ],
   "source": [
    "# Find remaining columns with missing values and how many values are missing\n",
    "test_missing_values = { col:(878 - test[col].count()) for col in test if test[col].count() < 878}\n",
    "test_missing_values  "
   ]
  },
  {
   "cell_type": "markdown",
   "metadata": {},
   "source": [
    "## Address basement columns"
   ]
  },
  {
   "cell_type": "code",
   "execution_count": 20,
   "metadata": {},
   "outputs": [
    {
     "data": {
      "text/plain": [
       "True"
      ]
     },
     "execution_count": 20,
     "metadata": {},
     "output_type": "execute_result"
    }
   ],
   "source": [
    "# Check if NaN values in 'Bsmt Qual', 'Bsmt Cond', 'Bsmt Exposure', 'BsmtFin Type 1', & 'BsmtFin Type 2' correspond\n",
    "bsmt_cols_no_nan = test[['Bsmt Qual', 'Bsmt Cond', 'Bsmt Exposure', 'BsmtFin Type 1', 'BsmtFin Type 2']].dropna(how='any')\n",
    "\n",
    "# Check how many rows were dropped to find if extra in 'Bsmt Exposure' & 'BsmtFin Type 2' overlap\n",
    "test.shape[0] - bsmt_cols_no_nan.shape[0] == 25"
   ]
  },
  {
   "cell_type": "code",
   "execution_count": 21,
   "metadata": {},
   "outputs": [],
   "source": [
    "# Fill empty values in 'Bsmt Qual', 'Bsmt Cond', 'Bsmt Exposure', 'BsmtFin Type 1', & 'BsmtFin Type 2' with 'N/A'\n",
    "test.loc[(test['BsmtFin Type 2'].isnull()), ['Bsmt Qual', \n",
    "                                             'Bsmt Cond', \n",
    "                                             'Bsmt Exposure', \n",
    "                                             'BsmtFin Type 1', \n",
    "                                             'BsmtFin Type 2']] = 'N/A'\n"
   ]
  },
  {
   "cell_type": "code",
   "execution_count": 22,
   "metadata": {},
   "outputs": [
    {
     "data": {
      "text/plain": [
       "{'Lot Frontage': 160, 'Electrical': 1, 'Fireplace Qu': 422}"
      ]
     },
     "execution_count": 22,
     "metadata": {},
     "output_type": "execute_result"
    }
   ],
   "source": [
    "# Find remaining columns with missing values and how many values are missing\n",
    "test_missing_values = { col:(878 - test[col].count()) for col in test if test[col].count() < 878}\n",
    "test_missing_values  "
   ]
  },
  {
   "cell_type": "markdown",
   "metadata": {},
   "source": [
    "## Address 'Fireplace Qu' column"
   ]
  },
  {
   "cell_type": "code",
   "execution_count": 23,
   "metadata": {},
   "outputs": [
    {
     "data": {
      "text/html": [
       "<div>\n",
       "<style scoped>\n",
       "    .dataframe tbody tr th:only-of-type {\n",
       "        vertical-align: middle;\n",
       "    }\n",
       "\n",
       "    .dataframe tbody tr th {\n",
       "        vertical-align: top;\n",
       "    }\n",
       "\n",
       "    .dataframe thead th {\n",
       "        text-align: right;\n",
       "    }\n",
       "</style>\n",
       "<table border=\"1\" class=\"dataframe\">\n",
       "  <thead>\n",
       "    <tr style=\"text-align: right;\">\n",
       "      <th></th>\n",
       "      <th>Fireplaces</th>\n",
       "      <th>Fireplace Qu</th>\n",
       "    </tr>\n",
       "  </thead>\n",
       "  <tbody>\n",
       "    <tr>\n",
       "      <th>0</th>\n",
       "      <td>0</td>\n",
       "      <td>NaN</td>\n",
       "    </tr>\n",
       "    <tr>\n",
       "      <th>1</th>\n",
       "      <td>0</td>\n",
       "      <td>NaN</td>\n",
       "    </tr>\n",
       "    <tr>\n",
       "      <th>3</th>\n",
       "      <td>0</td>\n",
       "      <td>NaN</td>\n",
       "    </tr>\n",
       "    <tr>\n",
       "      <th>5</th>\n",
       "      <td>0</td>\n",
       "      <td>NaN</td>\n",
       "    </tr>\n",
       "    <tr>\n",
       "      <th>6</th>\n",
       "      <td>0</td>\n",
       "      <td>NaN</td>\n",
       "    </tr>\n",
       "  </tbody>\n",
       "</table>\n",
       "</div>"
      ],
      "text/plain": [
       "   Fireplaces Fireplace Qu\n",
       "0           0          NaN\n",
       "1           0          NaN\n",
       "3           0          NaN\n",
       "5           0          NaN\n",
       "6           0          NaN"
      ]
     },
     "execution_count": 23,
     "metadata": {},
     "output_type": "execute_result"
    }
   ],
   "source": [
    "# Check out 'Fireplace Qu' compared to 'Fireplaces'\n",
    "test.loc[(test['Fireplace Qu'].isnull()), ['Fireplaces','Fireplace Qu']].head()"
   ]
  },
  {
   "cell_type": "code",
   "execution_count": 24,
   "metadata": {
    "scrolled": false
   },
   "outputs": [
    {
     "data": {
      "text/html": [
       "<div>\n",
       "<style scoped>\n",
       "    .dataframe tbody tr th:only-of-type {\n",
       "        vertical-align: middle;\n",
       "    }\n",
       "\n",
       "    .dataframe tbody tr th {\n",
       "        vertical-align: top;\n",
       "    }\n",
       "\n",
       "    .dataframe thead th {\n",
       "        text-align: right;\n",
       "    }\n",
       "</style>\n",
       "<table border=\"1\" class=\"dataframe\">\n",
       "  <thead>\n",
       "    <tr style=\"text-align: right;\">\n",
       "      <th></th>\n",
       "      <th>Id</th>\n",
       "      <th>PID</th>\n",
       "      <th>MS SubClass</th>\n",
       "      <th>MS Zoning</th>\n",
       "      <th>Lot Frontage</th>\n",
       "      <th>Lot Area</th>\n",
       "      <th>Street</th>\n",
       "      <th>Lot Shape</th>\n",
       "      <th>Land Contour</th>\n",
       "      <th>Utilities</th>\n",
       "      <th>...</th>\n",
       "      <th>Open Porch SF</th>\n",
       "      <th>Enclosed Porch</th>\n",
       "      <th>3Ssn Porch</th>\n",
       "      <th>Screen Porch</th>\n",
       "      <th>Pool Area</th>\n",
       "      <th>Misc Val</th>\n",
       "      <th>Mo Sold</th>\n",
       "      <th>Yr Sold</th>\n",
       "      <th>Sale Type</th>\n",
       "      <th>has_garage</th>\n",
       "    </tr>\n",
       "  </thead>\n",
       "  <tbody>\n",
       "  </tbody>\n",
       "</table>\n",
       "<p>0 rows × 77 columns</p>\n",
       "</div>"
      ],
      "text/plain": [
       "Empty DataFrame\n",
       "Columns: [Id, PID, MS SubClass, MS Zoning, Lot Frontage, Lot Area, Street, Lot Shape, Land Contour, Utilities, Lot Config, Land Slope, Neighborhood, Condition 1, Condition 2, Bldg Type, House Style, Overall Qual, Overall Cond, Year Built, Year Remod/Add, Roof Style, Roof Matl, Exterior 1st, Exterior 2nd, Mas Vnr Type, Mas Vnr Area, Exter Qual, Exter Cond, Foundation, Bsmt Qual, Bsmt Cond, Bsmt Exposure, BsmtFin Type 1, BsmtFin SF 1, BsmtFin Type 2, BsmtFin SF 2, Bsmt Unf SF, Total Bsmt SF, Heating, Heating QC, Central Air, Electrical, 1st Flr SF, 2nd Flr SF, Low Qual Fin SF, Gr Liv Area, Bsmt Full Bath, Bsmt Half Bath, Full Bath, Half Bath, Bedroom AbvGr, Kitchen AbvGr, Kitchen Qual, TotRms AbvGrd, Functional, Fireplaces, Fireplace Qu, Garage Type, Garage Yr Blt, Garage Finish, Garage Cars, Garage Area, Garage Qual, Garage Cond, Paved Drive, Wood Deck SF, Open Porch SF, Enclosed Porch, 3Ssn Porch, Screen Porch, Pool Area, Misc Val, Mo Sold, Yr Sold, Sale Type, has_garage]\n",
       "Index: []\n",
       "\n",
       "[0 rows x 77 columns]"
      ]
     },
     "execution_count": 24,
     "metadata": {},
     "output_type": "execute_result"
    }
   ],
   "source": [
    "# Verify that 'Fireplace Qu' NaN values align with 'Fireplaces' == 0\n",
    "test[(test['Fireplace Qu'].isnull()) & (test['Fireplaces'] != 0)]"
   ]
  },
  {
   "cell_type": "code",
   "execution_count": 25,
   "metadata": {
    "scrolled": false
   },
   "outputs": [
    {
     "data": {
      "text/html": [
       "<div>\n",
       "<style scoped>\n",
       "    .dataframe tbody tr th:only-of-type {\n",
       "        vertical-align: middle;\n",
       "    }\n",
       "\n",
       "    .dataframe tbody tr th {\n",
       "        vertical-align: top;\n",
       "    }\n",
       "\n",
       "    .dataframe thead th {\n",
       "        text-align: right;\n",
       "    }\n",
       "</style>\n",
       "<table border=\"1\" class=\"dataframe\">\n",
       "  <thead>\n",
       "    <tr style=\"text-align: right;\">\n",
       "      <th></th>\n",
       "      <th>Id</th>\n",
       "      <th>PID</th>\n",
       "      <th>MS SubClass</th>\n",
       "      <th>MS Zoning</th>\n",
       "      <th>Lot Frontage</th>\n",
       "      <th>Lot Area</th>\n",
       "      <th>Street</th>\n",
       "      <th>Lot Shape</th>\n",
       "      <th>Land Contour</th>\n",
       "      <th>Utilities</th>\n",
       "      <th>...</th>\n",
       "      <th>Open Porch SF</th>\n",
       "      <th>Enclosed Porch</th>\n",
       "      <th>3Ssn Porch</th>\n",
       "      <th>Screen Porch</th>\n",
       "      <th>Pool Area</th>\n",
       "      <th>Misc Val</th>\n",
       "      <th>Mo Sold</th>\n",
       "      <th>Yr Sold</th>\n",
       "      <th>Sale Type</th>\n",
       "      <th>has_garage</th>\n",
       "    </tr>\n",
       "  </thead>\n",
       "  <tbody>\n",
       "  </tbody>\n",
       "</table>\n",
       "<p>0 rows × 77 columns</p>\n",
       "</div>"
      ],
      "text/plain": [
       "Empty DataFrame\n",
       "Columns: [Id, PID, MS SubClass, MS Zoning, Lot Frontage, Lot Area, Street, Lot Shape, Land Contour, Utilities, Lot Config, Land Slope, Neighborhood, Condition 1, Condition 2, Bldg Type, House Style, Overall Qual, Overall Cond, Year Built, Year Remod/Add, Roof Style, Roof Matl, Exterior 1st, Exterior 2nd, Mas Vnr Type, Mas Vnr Area, Exter Qual, Exter Cond, Foundation, Bsmt Qual, Bsmt Cond, Bsmt Exposure, BsmtFin Type 1, BsmtFin SF 1, BsmtFin Type 2, BsmtFin SF 2, Bsmt Unf SF, Total Bsmt SF, Heating, Heating QC, Central Air, Electrical, 1st Flr SF, 2nd Flr SF, Low Qual Fin SF, Gr Liv Area, Bsmt Full Bath, Bsmt Half Bath, Full Bath, Half Bath, Bedroom AbvGr, Kitchen AbvGr, Kitchen Qual, TotRms AbvGrd, Functional, Fireplaces, Fireplace Qu, Garage Type, Garage Yr Blt, Garage Finish, Garage Cars, Garage Area, Garage Qual, Garage Cond, Paved Drive, Wood Deck SF, Open Porch SF, Enclosed Porch, 3Ssn Porch, Screen Porch, Pool Area, Misc Val, Mo Sold, Yr Sold, Sale Type, has_garage]\n",
       "Index: []\n",
       "\n",
       "[0 rows x 77 columns]"
      ]
     },
     "execution_count": 25,
     "metadata": {},
     "output_type": "execute_result"
    }
   ],
   "source": [
    "test[(test['Fireplace Qu'].notnull()) & (test['Fireplaces'] == 0)]"
   ]
  },
  {
   "cell_type": "code",
   "execution_count": 26,
   "metadata": {},
   "outputs": [],
   "source": [
    "# Create a new 'has_garage' column\n",
    "test['has_fireplace'] = [0 if pd.isna(value) else 1 for value in test['Fireplaces']]"
   ]
  },
  {
   "cell_type": "code",
   "execution_count": 27,
   "metadata": {},
   "outputs": [],
   "source": [
    "# Fill empty values with 'N/A' string\n",
    "test.loc[(test['Fireplace Qu'].isnull()), ['Fireplace Qu']] = 'N/A'"
   ]
  },
  {
   "cell_type": "code",
   "execution_count": 28,
   "metadata": {},
   "outputs": [
    {
     "data": {
      "text/plain": [
       "{'Lot Frontage': 160, 'Electrical': 1}"
      ]
     },
     "execution_count": 28,
     "metadata": {},
     "output_type": "execute_result"
    }
   ],
   "source": [
    "# Find remaining columns with missing values and how many values are missing\n",
    "test_missing_values = { col:(878 - test[col].count()) for col in test if test[col].count() < 878}\n",
    "test_missing_values  "
   ]
  },
  {
   "cell_type": "markdown",
   "metadata": {},
   "source": [
    "## Address 'Electrical' column"
   ]
  },
  {
   "cell_type": "code",
   "execution_count": 29,
   "metadata": {},
   "outputs": [],
   "source": [
    "# Address 'Electrical'"
   ]
  },
  {
   "cell_type": "code",
   "execution_count": 30,
   "metadata": {},
   "outputs": [
    {
     "data": {
      "text/html": [
       "<div>\n",
       "<style scoped>\n",
       "    .dataframe tbody tr th:only-of-type {\n",
       "        vertical-align: middle;\n",
       "    }\n",
       "\n",
       "    .dataframe tbody tr th {\n",
       "        vertical-align: top;\n",
       "    }\n",
       "\n",
       "    .dataframe thead th {\n",
       "        text-align: right;\n",
       "    }\n",
       "</style>\n",
       "<table border=\"1\" class=\"dataframe\">\n",
       "  <thead>\n",
       "    <tr style=\"text-align: right;\">\n",
       "      <th></th>\n",
       "      <th>Electrical</th>\n",
       "    </tr>\n",
       "  </thead>\n",
       "  <tbody>\n",
       "    <tr>\n",
       "      <th>634</th>\n",
       "      <td>NaN</td>\n",
       "    </tr>\n",
       "  </tbody>\n",
       "</table>\n",
       "</div>"
      ],
      "text/plain": [
       "    Electrical\n",
       "634        NaN"
      ]
     },
     "execution_count": 30,
     "metadata": {},
     "output_type": "execute_result"
    }
   ],
   "source": [
    "# Check out row of missing value\n",
    "test.loc[(test['Electrical'].isnull()), ['Electrical']]"
   ]
  },
  {
   "cell_type": "code",
   "execution_count": 31,
   "metadata": {},
   "outputs": [
    {
     "data": {
      "text/plain": [
       "Electrical\n",
       "FuseA     48\n",
       "FuseF     15\n",
       "FuseP      1\n",
       "SBrkr    813\n",
       "Name: Electrical, dtype: int64"
      ]
     },
     "execution_count": 31,
     "metadata": {},
     "output_type": "execute_result"
    }
   ],
   "source": [
    "# Find most common 'Electrical' value to fill NaN\n",
    "test.groupby('Electrical')['Electrical'].count()"
   ]
  },
  {
   "cell_type": "code",
   "execution_count": 32,
   "metadata": {},
   "outputs": [],
   "source": [
    "# Fill extra empty value in 'Electrical' with 'SBrkr'\n",
    "test.loc[634, 'Electrical'] = 'SBrkr'"
   ]
  },
  {
   "cell_type": "code",
   "execution_count": 33,
   "metadata": {},
   "outputs": [
    {
     "data": {
      "text/plain": [
       "{'Lot Frontage': 160}"
      ]
     },
     "execution_count": 33,
     "metadata": {},
     "output_type": "execute_result"
    }
   ],
   "source": [
    "# Find remaining columns with missing values and how many values are missing\n",
    "test_missing_values = { col:(878 - test[col].count()) for col in test if test[col].count() < 878}\n",
    "test_missing_values  "
   ]
  },
  {
   "cell_type": "markdown",
   "metadata": {},
   "source": [
    "## Address 'Lot Frontage' column"
   ]
  },
  {
   "cell_type": "markdown",
   "metadata": {},
   "source": [
    "#### Import all of this into other Jupyter Notebook later to access the same ratios derived from that dataset"
   ]
  },
  {
   "cell_type": "code",
   "execution_count": 34,
   "metadata": {},
   "outputs": [
    {
     "data": {
      "text/plain": [
       "Lot Shape\n",
       "IR1     75.108696\n",
       "IR2     91.500000\n",
       "IR3    120.000000\n",
       "Reg     66.568665\n",
       "Name: Lot Frontage, dtype: float64"
      ]
     },
     "execution_count": 34,
     "metadata": {},
     "output_type": "execute_result"
    }
   ],
   "source": [
    "# Check mean 'Lot Frontage' by 'Lot Shape' for later comparison\n",
    "test.groupby('Lot Shape')['Lot Frontage'].mean()"
   ]
  },
  {
   "cell_type": "code",
   "execution_count": 35,
   "metadata": {},
   "outputs": [],
   "source": [
    "# Fill empty values in 'Lot Frontage' with corresponding 'Lot Area' * lot_ratio by lot shape\n",
    "\n",
    "# Credits (using .transform() on a groupby object): @jpp 6/22/2018 \n",
    "# https://stackoverflow.com/questions/50991766/how-does-pandas-replace-nan-values-with-mean-value-using-groupby\n",
    "\n",
    "# Create a new 'lot_ratio' column of 'Lot Frontage' / 'Lot Area'\n",
    "test['lot_ratio'] = [value1 / value2 if (~pd.isna(value1)) else 'N/A' for value1, value2 in zip(test['Lot Frontage'], test['Lot Area'])]\n",
    "\n",
    "# Replace lot ratios in 'lot_ratio' with the mean lot ratio by 'Lot Shape'\n",
    "mean_ratios_by_shape = test.groupby('Lot Shape')['lot_ratio'].transform('mean')\n",
    "\n",
    "# Fill empty values in 'Lot Frontage' with estimate from ratio by lot shape * 'Lot Area'\n",
    "test['Lot Frontage'].fillna(value=(mean_ratios_by_shape * test['Lot Area']), inplace=True)\n"
   ]
  },
  {
   "cell_type": "code",
   "execution_count": 36,
   "metadata": {},
   "outputs": [
    {
     "data": {
      "text/plain": [
       "Lot Shape\n",
       "IR1     83.699566\n",
       "IR2     98.750940\n",
       "IR3    120.692110\n",
       "Reg     67.259669\n",
       "Name: Lot Frontage, dtype: float64"
      ]
     },
     "execution_count": 36,
     "metadata": {},
     "output_type": "execute_result"
    }
   ],
   "source": [
    "# Check new mean 'Lot Frontage' by 'Lot Shape' for comparison\n",
    "test.groupby('Lot Shape')['Lot Frontage'].mean()"
   ]
  },
  {
   "cell_type": "code",
   "execution_count": 37,
   "metadata": {},
   "outputs": [],
   "source": [
    "# Remove 'lot_ratio' column\n",
    "test.drop(columns=['lot_ratio'], inplace=True)"
   ]
  },
  {
   "cell_type": "code",
   "execution_count": 38,
   "metadata": {},
   "outputs": [
    {
     "data": {
      "text/plain": [
       "{}"
      ]
     },
     "execution_count": 38,
     "metadata": {},
     "output_type": "execute_result"
    }
   ],
   "source": [
    "# Find remaining columns with missing values and how many values are missing\n",
    "test_missing_values = { col:(878 - test[col].count()) for col in test if test[col].count() < 878}\n",
    "test_missing_values  "
   ]
  },
  {
   "cell_type": "markdown",
   "metadata": {},
   "source": [
    "## Change datatypes"
   ]
  },
  {
   "cell_type": "code",
   "execution_count": 39,
   "metadata": {},
   "outputs": [
    {
     "data": {
      "text/plain": [
       "Bsmt Full Bath     int64\n",
       "Bsmt Half Bath     int64\n",
       "Garage Cars        int64\n",
       "Garage Yr Blt      int64\n",
       "Central Air       object\n",
       "dtype: object"
      ]
     },
     "execution_count": 39,
     "metadata": {},
     "output_type": "execute_result"
    }
   ],
   "source": [
    "# Change test['Garage Cars', 'Garage Yr Blt', 'Bsmt Full Bath', 'Bsmt Half Bath'] to int\n",
    "\n",
    "# Credits: Jaroslav Bezděk 12/12/2019 & user4322543 12/19/2016\n",
    "# https://stackoverflow.com/questions/21291259/convert-floats-to-ints-in-pandas\n",
    "\n",
    "test['Garage Cars'] = test['Garage Cars'].apply(np.int64)\n",
    "test['Garage Yr Blt'] = test['Garage Yr Blt'].apply(np.int64)\n",
    "test['Bsmt Full Bath'] = test['Bsmt Full Bath'].apply(np.int64)\n",
    "test['Bsmt Half Bath'] = test['Bsmt Half Bath'].apply(np.int64)\n",
    "test[['Bsmt Full Bath', 'Bsmt Half Bath', 'Garage Cars', 'Garage Yr Blt', 'Central Air']].dtypes"
   ]
  },
  {
   "cell_type": "markdown",
   "metadata": {},
   "source": [
    "## Address categorical (nominal / ordinal) columns"
   ]
  },
  {
   "cell_type": "code",
   "execution_count": 40,
   "metadata": {
    "scrolled": true
   },
   "outputs": [
    {
     "data": {
      "text/plain": [
       "['MS Zoning',\n",
       " 'Street',\n",
       " 'Lot Shape',\n",
       " 'Land Contour',\n",
       " 'Utilities',\n",
       " 'Lot Config',\n",
       " 'Land Slope',\n",
       " 'Neighborhood',\n",
       " 'Condition 1',\n",
       " 'Condition 2',\n",
       " 'Bldg Type',\n",
       " 'House Style',\n",
       " 'Roof Style',\n",
       " 'Roof Matl',\n",
       " 'Exterior 1st',\n",
       " 'Exterior 2nd',\n",
       " 'Mas Vnr Type',\n",
       " 'Exter Qual',\n",
       " 'Exter Cond',\n",
       " 'Foundation',\n",
       " 'Bsmt Qual',\n",
       " 'Bsmt Cond',\n",
       " 'Bsmt Exposure',\n",
       " 'BsmtFin Type 1',\n",
       " 'BsmtFin Type 2',\n",
       " 'Heating',\n",
       " 'Heating QC',\n",
       " 'Central Air',\n",
       " 'Electrical',\n",
       " 'Kitchen Qual',\n",
       " 'Functional',\n",
       " 'Fireplace Qu',\n",
       " 'Garage Type',\n",
       " 'Garage Finish',\n",
       " 'Garage Qual',\n",
       " 'Garage Cond',\n",
       " 'Paved Drive',\n",
       " 'Sale Type']"
      ]
     },
     "execution_count": 40,
     "metadata": {},
     "output_type": "execute_result"
    }
   ],
   "source": [
    "# Get list of categorical variables\n",
    "\n",
    "def get_cat_cols(df):\n",
    "    cat_cols = []\n",
    "    for col in df.columns:\n",
    "        if df[col].dtype == 'object':\n",
    "            cat_cols.append(col)\n",
    "    return cat_cols\n",
    "    \n",
    "get_cat_cols(test)"
   ]
  },
  {
   "cell_type": "markdown",
   "metadata": {},
   "source": [
    "From the data dictionary and judgment, these columns should be adjusted to include in model evaluation, either by dummifying or converting to an ordinal scale:\n",
    "\n",
    "Nominal (to dummify):\n",
    "- MS Zoning\n",
    "- Lot Config\n",
    "- Neighborhood\n",
    "- Bldg Type\n",
    "\n",
    "Ordinal (to change to numerical scale):\n",
    "- Utilities\n",
    "- Land Slope\n",
    "- House Style (not ordinal, but change to ordinal)\n",
    "- Exter Qual\n",
    "- Exter Cond\n",
    "- Bsmt Qual, Bsmt Cond, Bsmt Exposure\n",
    "- Heating QC\n",
    "- Kitchen Qual\n",
    "- Functional\n",
    "- Fireplace Qu\n",
    "- Garage Finish\n",
    "- Garage Qual\n",
    "- Garage Cond\n",
    "- Paved Drive\n",
    "- Fence\n",
    "\n",
    "Binary:\n",
    "- Create 'has_condition' = [0,1,2] based on 'Condition 1' and 'Condition 2'\n"
   ]
  },
  {
   "cell_type": "markdown",
   "metadata": {},
   "source": [
    "### Address ordinal columns"
   ]
  },
  {
   "cell_type": "code",
   "execution_count": 41,
   "metadata": {},
   "outputs": [
    {
     "data": {
      "text/plain": [
       "{'Utilities': ['AllPub', 'NoSewr'],\n",
       " 'Land Slope': ['Gtl', 'Mod', 'Sev'],\n",
       " 'House Style': ['2Story',\n",
       "  '1Story',\n",
       "  '1.5Fin',\n",
       "  'SLvl',\n",
       "  'SFoyer',\n",
       "  '2.5Fin',\n",
       "  '2.5Unf',\n",
       "  '1.5Unf'],\n",
       " 'Exter Qual': ['TA', 'Gd', 'Fa', 'Ex'],\n",
       " 'Exter Cond': ['Fa', 'TA', 'Gd', 'Ex', 'Po'],\n",
       " 'Bsmt Qual': ['Fa', 'Gd', 'TA', 'Ex', 'N/A', 'Po'],\n",
       " 'Bsmt Cond': ['TA', 'Gd', 'N/A', 'Fa'],\n",
       " 'Bsmt Exposure': ['No', 'Av', 'N/A', 'Mn', 'Gd'],\n",
       " 'Heating QC': ['Gd', 'TA', 'Ex', 'Fa'],\n",
       " 'Kitchen Qual': ['Fa', 'TA', 'Gd', 'Ex', 'Po'],\n",
       " 'Functional': ['Typ', 'Min2', 'Min1', 'Mod', 'Maj1', 'Maj2'],\n",
       " 'Fireplace Qu': ['N/A', 'Gd', 'Fa', 'TA', 'Po', 'Ex'],\n",
       " 'Garage Finish': ['Unf', 'Fin', 'RFn', 'N/A'],\n",
       " 'Garage Qual': ['Po', 'TA', 'Fa', 'N/A', 'Gd'],\n",
       " 'Garage Cond': ['Po', 'TA', 'N/A', 'Fa', 'Gd', 'Ex'],\n",
       " 'Paved Drive': ['Y', 'N', 'P'],\n",
       " 'Central Air': ['N', 'Y']}"
      ]
     },
     "execution_count": 41,
     "metadata": {},
     "output_type": "execute_result"
    }
   ],
   "source": [
    "# Find the unique values in each of the columns to turn to ordinal\n",
    "\n",
    "ordinals = ['Utilities', 'Land Slope', 'House Style', 'Exter Qual', 'Exter Cond', \n",
    "            'Bsmt Qual', 'Bsmt Cond', 'Bsmt Exposure', 'Heating QC', 'Kitchen Qual', \n",
    "            'Functional', 'Fireplace Qu', 'Garage Finish', 'Garage Qual', 'Garage Cond', \n",
    "            'Paved Drive', 'Central Air']\n",
    "\n",
    "def get_uniques(data, col_list):    \n",
    "    uniques = {}\n",
    "    for col in col_list:\n",
    "        uniques[col] = list(data[col].unique())\n",
    "    return uniques\n",
    "\n",
    "ordinal_uniques = get_uniques(test, ordinals)\n",
    "ordinal_uniques"
   ]
  },
  {
   "cell_type": "code",
   "execution_count": 42,
   "metadata": {},
   "outputs": [
    {
     "name": "stdout",
     "output_type": "stream",
     "text": [
      "0    3\n",
      "1    3\n",
      "2    4\n",
      "Name: Exter Qual, dtype: int64\n",
      "0    2\n",
      "1    3\n",
      "2    3\n",
      "Name: Exter Cond, dtype: int64\n",
      "0    2\n",
      "1    4\n",
      "2    4\n",
      "Name: Bsmt Qual, dtype: int64\n",
      "0    3\n",
      "1    3\n",
      "2    4\n",
      "Name: Bsmt Cond, dtype: int64\n",
      "0    4\n",
      "1    3\n",
      "2    5\n",
      "Name: Heating QC, dtype: int64\n",
      "0    2\n",
      "1    3\n",
      "2    4\n",
      "Name: Kitchen Qual, dtype: int64\n",
      "0    0\n",
      "1    0\n",
      "2    4\n",
      "Name: Fireplace Qu, dtype: int64\n",
      "0    1\n",
      "1    3\n",
      "2    3\n",
      "Name: Garage Qual, dtype: int64\n",
      "0    1\n",
      "1    3\n",
      "2    3\n",
      "Name: Garage Cond, dtype: int64\n"
     ]
    }
   ],
   "source": [
    "# For all columns with a subset of ['Ex', 'Gd', 'TA', 'Fa', 'Po', 'N/A'], map ordinals\n",
    "# Credits (using any()): @ericyan3000 5.31.2018 & @Anna 6.2.2018\n",
    "# https://stackoverflow.com/questions/3847386/testing-if-a-list-contains-another-list-with-python\n",
    "\n",
    "for key, value in ordinal_uniques.items():\n",
    "    if any(elem in value for elem in ['Ex', 'Gd', 'TA', 'Fa', 'Po']) and key != 'Bsmt Exposure':\n",
    "        test[key] = test[key].map({'Ex': 5, 'Gd': 4, 'TA': 3, 'Fa': 2, 'Po': 1, 'N/A': 0})\n",
    "        print(test[key].head(3))\n",
    "        ordinals.remove(key)\n",
    "        "
   ]
  },
  {
   "cell_type": "code",
   "execution_count": 43,
   "metadata": {},
   "outputs": [
    {
     "data": {
      "text/plain": [
       "{'Utilities': ['AllPub', 'NoSewr'],\n",
       " 'Land Slope': ['Gtl', 'Mod', 'Sev'],\n",
       " 'House Style': ['2Story',\n",
       "  '1Story',\n",
       "  '1.5Fin',\n",
       "  'SLvl',\n",
       "  'SFoyer',\n",
       "  '2.5Fin',\n",
       "  '2.5Unf',\n",
       "  '1.5Unf'],\n",
       " 'Bsmt Exposure': ['No', 'Av', 'N/A', 'Mn', 'Gd'],\n",
       " 'Functional': ['Typ', 'Min2', 'Min1', 'Mod', 'Maj1', 'Maj2'],\n",
       " 'Garage Finish': ['Unf', 'Fin', 'RFn', 'N/A'],\n",
       " 'Paved Drive': ['Y', 'N', 'P'],\n",
       " 'Central Air': ['N', 'Y']}"
      ]
     },
     "execution_count": 43,
     "metadata": {},
     "output_type": "execute_result"
    }
   ],
   "source": [
    "# Check that correct columns were converted and removed from the list\n",
    "ordinal_uniques = get_uniques(test, ordinals)\n",
    "ordinal_uniques"
   ]
  },
  {
   "cell_type": "code",
   "execution_count": 44,
   "metadata": {
    "scrolled": true
   },
   "outputs": [
    {
     "data": {
      "text/plain": [
       "['MS Zoning',\n",
       " 'Street',\n",
       " 'Lot Shape',\n",
       " 'Land Contour',\n",
       " 'Lot Config',\n",
       " 'Neighborhood',\n",
       " 'Condition 1',\n",
       " 'Condition 2',\n",
       " 'Bldg Type',\n",
       " 'Roof Style',\n",
       " 'Roof Matl',\n",
       " 'Exterior 1st',\n",
       " 'Exterior 2nd',\n",
       " 'Mas Vnr Type',\n",
       " 'Foundation',\n",
       " 'BsmtFin Type 1',\n",
       " 'BsmtFin Type 2',\n",
       " 'Heating',\n",
       " 'Electrical',\n",
       " 'Garage Type',\n",
       " 'Sale Type']"
      ]
     },
     "execution_count": 44,
     "metadata": {},
     "output_type": "execute_result"
    }
   ],
   "source": [
    "# Make the rest of the chosen columns ordinal\n",
    "test['Utilities'] = test['Utilities'].map({'AllPub': 4, 'NoSeWa': 2, 'NoSewr': 3, 'ELO': 1})\n",
    "test['Land Slope'] = test['Land Slope'].map({'Gtl': 1, 'Sev': 3, 'Mod': 2})\n",
    "test['House Style'] = test['House Style'].map({'2Story': 2, '1Story': 1, '1.5Fin': 5/3, 'SFoyer': 2, 'SLvl': 2, '2.5Unf': 7/3, '2.5Fin': 8/3, '1.5Unf': 4/3})\n",
    "test['Bsmt Exposure'] = test['Bsmt Exposure'].map({'No': 1, 'Gd': 4, 'Av': 3, 'N/A': 0, 'Mn': 2})\n",
    "test['Functional'] = test['Functional'].map({'Typ': 8, 'Mod': 5, 'Min2': 6, 'Maj1': 4, 'Min1': 7, 'Sev': 2, 'Sal': 1, 'Maj2': 3})\n",
    "test['Garage Finish'] = test['Garage Finish'].map({'RFn': 2, 'Unf': 1, 'Fin': 3, 'N/A': 0})\n",
    "test['Paved Drive'] = test['Paved Drive'].map({'Y': 1, 'N': 0, 'P': .5})\n",
    "test['Central Air'] = test['Central Air'].map({'Y': 1, 'N': 0})\n",
    "\n",
    "# Check that all columns intended to be changed were changed\n",
    "get_cat_cols(test)"
   ]
  },
  {
   "cell_type": "markdown",
   "metadata": {},
   "source": [
    "### Address nominal columns (dummify)"
   ]
  },
  {
   "cell_type": "code",
   "execution_count": 45,
   "metadata": {},
   "outputs": [],
   "source": [
    "# Get dummy columns\n",
    "dum_test = pd.get_dummies(test, \n",
    "                          columns=['MS Zoning', 'Lot Config', 'Neighborhood', 'Bldg Type'], \n",
    "                          drop_first=True, \n",
    "                          prefix=['zone', 'lot_config', 'neighborhood', 'bldg_type'])"
   ]
  },
  {
   "cell_type": "markdown",
   "metadata": {},
   "source": [
    "### Create new calculated columns"
   ]
  },
  {
   "cell_type": "code",
   "execution_count": 46,
   "metadata": {},
   "outputs": [],
   "source": [
    "# 2 new calculated columns\n",
    "dum_test['total_full_bath'] = dum_test['Full Bath'] + dum_test['Bsmt Full Bath']\n",
    "dum_test['total_half_bath'] = dum_test['Half Bath'] + dum_test['Bsmt Half Bath']"
   ]
  },
  {
   "cell_type": "code",
   "execution_count": 47,
   "metadata": {
    "scrolled": true
   },
   "outputs": [
    {
     "data": {
      "text/plain": [
       "(878, 114)"
      ]
     },
     "execution_count": 47,
     "metadata": {},
     "output_type": "execute_result"
    }
   ],
   "source": [
    "# Check that new columns were added to the new dataframe\n",
    "dum_test.shape"
   ]
  },
  {
   "cell_type": "markdown",
   "metadata": {},
   "source": [
    "# Export clean data for analysis"
   ]
  },
  {
   "cell_type": "code",
   "execution_count": 48,
   "metadata": {},
   "outputs": [],
   "source": [
    "dum_test.to_csv('./datasets/test_clean.csv', index=False)"
   ]
  },
  {
   "cell_type": "code",
   "execution_count": null,
   "metadata": {},
   "outputs": [],
   "source": []
  }
 ],
 "metadata": {
  "kernelspec": {
   "display_name": "Python 3",
   "language": "python",
   "name": "python3"
  },
  "language_info": {
   "codemirror_mode": {
    "name": "ipython",
    "version": 3
   },
   "file_extension": ".py",
   "mimetype": "text/x-python",
   "name": "python",
   "nbconvert_exporter": "python",
   "pygments_lexer": "ipython3",
   "version": "3.7.5"
  }
 },
 "nbformat": 4,
 "nbformat_minor": 2
}
